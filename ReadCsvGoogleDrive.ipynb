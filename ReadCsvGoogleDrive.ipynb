{
  "nbformat": 4,
  "nbformat_minor": 0,
  "metadata": {
    "colab": {
      "name": "ReadCsvGoogleDrive",
      "provenance": [],
      "collapsed_sections": [],
      "authorship_tag": "ABX9TyOc2toElVnP+snDLe/dmGkm",
      "include_colab_link": true
    },
    "kernelspec": {
      "name": "python3",
      "display_name": "Python 3"
    }
  },
  "cells": [
    {
      "cell_type": "markdown",
      "metadata": {
        "id": "view-in-github",
        "colab_type": "text"
      },
      "source": [
        "<a href=\"https://colab.research.google.com/github/dileepdamodaran/PythonMachineLearning/blob/PML_Version1/ReadCsvGoogleDrive.ipynb\" target=\"_parent\"><img src=\"https://colab.research.google.com/assets/colab-badge.svg\" alt=\"Open In Colab\"/></a>"
      ]
    },
    {
      "cell_type": "code",
      "metadata": {
        "id": "vFihK_oqGVXS",
        "colab": {
          "base_uri": "https://localhost:8080/"
        },
        "outputId": "c40fbdf5-d2dd-41c2-ea60-6231dea25f90"
      },
      "source": [
        "!pip install -U -q PyDrive\n",
        "\n",
        "from pydrive.auth import GoogleAuth\n",
        "from pydrive.drive import GoogleDrive\n",
        "from google.colab import auth\n",
        "from oauth2client.client import GoogleCredentials\n",
        "\n",
        "# 1. Authenticate and create the PyDrive client.\n",
        "auth.authenticate_user()\n",
        "gauth = GoogleAuth()\n",
        "gauth.credentials = GoogleCredentials.get_application_default()\n",
        "drive = GoogleDrive(gauth)\n",
        "\n",
        "# 2. Load a file by ID and create local file.\n",
        "downloaded = drive.CreateFile({'id':'1zE3ILyrO9O2z0yDAHU3SPBvPdsFZ1F8-'}) # replace fileid with Id of file you want to access\n",
        "downloaded.GetContentFile('Data.csv') # now you can use export.csv \n",
        "\n",
        "import pandas as pd\n",
        "xyz = pd.read_csv('Data.csv')\n",
        "print(xyz.head(1))\n"
      ],
      "execution_count": 1,
      "outputs": [
        {
          "output_type": "stream",
          "text": [
            "  Country   Age   Salary Purchased\n",
            "0  France  44.0  72000.0        No\n"
          ],
          "name": "stdout"
        }
      ]
    }
  ]
}