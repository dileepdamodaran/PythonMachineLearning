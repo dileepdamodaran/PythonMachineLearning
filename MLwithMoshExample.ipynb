{
  "nbformat": 4,
  "nbformat_minor": 0,
  "metadata": {
    "colab": {
      "name": "MLwithMoshExample.ipynb",
      "provenance": [],
      "authorship_tag": "ABX9TyMnQSrFyjh1RncreFo8bCXS",
      "include_colab_link": true
    },
    "kernelspec": {
      "name": "python3",
      "display_name": "Python 3"
    }
  },
  "cells": [
    {
      "cell_type": "markdown",
      "metadata": {
        "id": "view-in-github",
        "colab_type": "text"
      },
      "source": [
        "<a href=\"https://colab.research.google.com/github/dileepdamodaran/PythonMachineLearning/blob/PML_Version1/MLwithMoshExample.ipynb\" target=\"_parent\"><img src=\"https://colab.research.google.com/assets/colab-badge.svg\" alt=\"Open In Colab\"/></a>"
      ]
    },
    {
      "cell_type": "code",
      "metadata": {
        "colab": {
          "base_uri": "https://localhost:8080/"
        },
        "id": "ZxD-mQL5tgOC",
        "outputId": "62f8ac60-d35d-4393-9e3c-46de6d39c12a"
      },
      "source": [
        "!pip install -U -q PyDrive\n",
        "\n",
        "from pydrive.auth import GoogleAuth\n",
        "from pydrive.drive import GoogleDrive\n",
        "from google.colab import auth\n",
        "from oauth2client.client import GoogleCredentials\n",
        "\n",
        "\n",
        "# 1. Authenticate and create the PyDrive client.\n",
        "auth.authenticate_user()\n",
        "gauth = GoogleAuth()\n",
        "gauth.credentials = GoogleCredentials.get_application_default()\n",
        "drive = GoogleDrive(gauth)\n",
        "\n",
        "# 2. Load a file by ID and create local file.\n",
        "downloaded = drive.CreateFile({'id':'1Hr-QmppScBHBQSlegAJopck2reZpTxZH'}) # replace fileid with Id of file you want to access\n",
        "downloaded.GetContentFile('vgsales.csv') # now you can use export.csv \n",
        "\n",
        "import pandas as pd\n",
        "dataset =pd.read_csv('vgsales.csv')\n",
        "print(dataset[:2])\n"
      ],
      "execution_count": 7,
      "outputs": [
        {
          "output_type": "stream",
          "text": [
            "   Rank               Name Platform  ...  JP_Sales Other_Sales Global_Sales\n",
            "0     1         Wii Sports      Wii  ...      3.77        8.46        82.74\n",
            "1     2  Super Mario Bros.      NES  ...      6.81        0.77        40.24\n",
            "\n",
            "[2 rows x 11 columns]\n"
          ],
          "name": "stdout"
        }
      ]
    }
  ]
}